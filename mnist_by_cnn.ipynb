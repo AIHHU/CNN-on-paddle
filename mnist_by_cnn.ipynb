{
 "cells": [
  {
   "cell_type": "code",
   "execution_count": 1,
   "metadata": {
    "collapsed": false
   },
   "outputs": [
    {
     "name": "stderr",
     "output_type": "stream",
     "text": [
      "/opt/conda/envs/python35-paddle120-env/lib/python3.7/site-packages/paddle/fluid/layers/utils.py:26: DeprecationWarning: `np.int` is a deprecated alias for the builtin `int`. To silence this warning, use `int` by itself. Doing this will not modify any behavior and is safe. When replacing `np.int`, you may wish to use e.g. `np.int64` or `np.int32` to specify the precision. If you wish to review your current use, check the release note link for additional information.\n",
      "Deprecated in NumPy 1.20; for more details and guidance: https://numpy.org/devdocs/release/1.20.0-notes.html#deprecations\n",
      "  def convert_to_list(value, n, name, dtype=np.int):\n"
     ]
    }
   ],
   "source": [
    "import paddle\n",
    "import numpy as np\n",
    "import paddle.dataset.mnist as mnist\n",
    "import paddle.fluid as fluid\n",
    "from PIL import Image\n",
    "paddle.enable_static()"
   ]
  },
  {
   "cell_type": "code",
   "execution_count": 2,
   "metadata": {
    "collapsed": false
   },
   "outputs": [],
   "source": [
    "dropout_layer=paddle.nn.Dropout(p=0.2)\n",
    "def convolutional_neural_network(input):\n",
    "    conv1=fluid.layers.conv2d(input=input,num_filters=32,filter_size=(3,3),stride=1)\n",
    "    pool1=fluid.layers.pool2d(input=conv1,pool_size=2,pool_stride=1,pool_type='max')\n",
    "    conv2=fluid.layers.conv2d(input=pool1,num_filters=64,filter_size=(3,3),stride=1)\n",
    "    pool2=fluid.layers.pool2d(input=conv2,pool_size=2,pool_stride=1,pool_type='max')\n",
    "    pool2=dropout_layer(pool2)\n",
    "    fc=fluid.layers.fc(input=pool2,size=10,act='softmax')\n",
    "    return fc\n",
    "\n",
    "image=fluid.data(name='image',shape=[None,1,28,28],dtype='float32')\n",
    "model=convolutional_neural_network(image)\n",
    "infer_program=fluid.default_main_program().clone(for_test=True)"
   ]
  },
  {
   "cell_type": "markdown",
   "metadata": {
    "collapsed": false
   },
   "source": [
    "这里只是将卷积神经网络进行了封装，拆开来当然可以,这里用了paddle.nn\n",
    "因为在paddle后续的版本中将移除fluid，paddle.nn将在后续动态图模式中细讲\n",
    "在未来的使用中动态图模式才是主流"
   ]
  },
  {
   "cell_type": "code",
   "execution_count": 3,
   "metadata": {
    "collapsed": false
   },
   "outputs": [],
   "source": [
    "label=fluid.data(name='lable',shape=[None,1],dtype='int64')\n",
    "cost=fluid.layers.cross_entropy(input=model,label=label)\n",
    "avg_cost=fluid.layers.mean(cost)\n",
    "acc=fluid.layers.accuracy(input=model,label=label)\n",
    "test_program=fluid.default_main_program().clone(for_test=True)"
   ]
  },
  {
   "cell_type": "code",
   "execution_count": 4,
   "metadata": {
    "collapsed": false
   },
   "outputs": [],
   "source": [
    "optimizer=fluid.optimizer.AdamOptimizer(learning_rate=0.001)\r\n",
    "opts=optimizer.minimize(avg_cost)"
   ]
  },
  {
   "cell_type": "markdown",
   "metadata": {
    "collapsed": false
   },
   "source": [
    "使用了adam梯度下降算法"
   ]
  },
  {
   "cell_type": "code",
   "execution_count": 5,
   "metadata": {
    "collapsed": false
   },
   "outputs": [
    {
     "data": {
      "text/plain": [
       "[]"
      ]
     },
     "execution_count": 5,
     "metadata": {},
     "output_type": "execute_result"
    }
   ],
   "source": [
    "place=fluid.CUDAPlace(0)\r\n",
    "exe=fluid.Executor(place)\r\n",
    "exe.run(fluid.default_startup_program())"
   ]
  },
  {
   "cell_type": "code",
   "execution_count": 6,
   "metadata": {
    "collapsed": false
   },
   "outputs": [],
   "source": [
    "train_reader=paddle.batch(reader=mnist.train(),batch_size=128)\r\n",
    "test_reader=paddle.batch(reader=mnist.test(),batch_size=128)\r\n",
    "feeder=fluid.DataFeeder(place=place,feed_list=[image,label])"
   ]
  },
  {
   "cell_type": "markdown",
   "metadata": {
    "collapsed": false
   },
   "source": [
    "本代码主要展示卷积神经网络的使用，关于如何采用自定义数据集将在后续实例中展示"
   ]
  },
  {
   "cell_type": "code",
   "execution_count": 7,
   "metadata": {
    "collapsed": false
   },
   "outputs": [
    {
     "name": "stdout",
     "output_type": "stream",
     "text": [
      "Pass:0, Batch\"0, Cost:6.81210, Accuracy:0.10156\n",
      "Pass:0, Batch\"100, Cost:0.29407, Accuracy:0.91406\n",
      "Pass:0, Batch\"200, Cost:0.16173, Accuracy:0.96875\n",
      "Pass:0, Batch\"300, Cost:0.19109, Accuracy:0.96094\n",
      "Pass:0, Batch\"400, Cost:0.19079, Accuracy:0.93750\n",
      "id:0, Cost:0.01452, Accuracy:0.96875\n",
      "Pass:1, Batch\"0, Cost:0.13655, Accuracy:0.96875\n",
      "Pass:1, Batch\"100, Cost:0.08126, Accuracy:0.96875\n",
      "Pass:1, Batch\"200, Cost:0.06314, Accuracy:0.97656\n",
      "Pass:1, Batch\"300, Cost:0.12812, Accuracy:0.97656\n",
      "Pass:1, Batch\"400, Cost:0.21127, Accuracy:0.95312\n",
      "id:1, Cost:0.65440, Accuracy:0.95332\n"
     ]
    }
   ],
   "source": [
    "for pass_id in range(2):\r\n",
    "    for batch_id,data in enumerate(train_reader()):\r\n",
    "        train_cost,train_acc=exe.run(program=fluid.default_main_program(),\r\n",
    "            feed=feeder.feed(data),\r\n",
    "            fetch_list=[avg_cost, acc])\r\n",
    "        if batch_id%100==0:\r\n",
    "            print('Pass:%d, Batch\"%d, Cost:%0.5f, Accuracy:%0.5f'\r\n",
    "                    %(pass_id, batch_id, train_cost[0], train_acc[0]))\r\n",
    "    test_accs=[]\r\n",
    "    test_costs=[]\r\n",
    "    for batch_id,data in enumerate(test_reader()):\r\n",
    "        test_cost,test_acc=exe.run(program=test_program,\r\n",
    "        feed=feeder.feed(data),\r\n",
    "        fetch_list=[avg_cost,acc])\r\n",
    "        test_accs.append(test_acc[0])\r\n",
    "        test_costs.append(test_cost[0])\r\n",
    "    test_costs=(sum(test_costs))/len(test_costs)\r\n",
    "    test_acc=(sum(test_accs))/len(test_accs)\r\n",
    "    print('id:%d, Cost:%0.5f, Accuracy:%0.5f' %(pass_id,test_cost,test_acc))"
   ]
  }
 ],
 "metadata": {
  "kernelspec": {
   "display_name": "PaddlePaddle 2.0.0b0 (Python 3.5)",
   "language": "python",
   "name": "py35-paddle1.2.0"
  },
  "language_info": {
   "codemirror_mode": {
    "name": "ipython",
    "version": 3
   },
   "file_extension": ".py",
   "mimetype": "text/x-python",
   "name": "python",
   "nbconvert_exporter": "python",
   "pygments_lexer": "ipython3",
   "version": "3.7.4"
  }
 },
 "nbformat": 4,
 "nbformat_minor": 1
}
